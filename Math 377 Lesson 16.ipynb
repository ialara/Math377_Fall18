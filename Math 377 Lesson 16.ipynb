{
 "cells": [
  {
   "cell_type": "code",
   "execution_count": 3,
   "metadata": {},
   "outputs": [],
   "source": [
    "from datascience import *\n",
    "import numpy as np\n",
    "from math import *"
   ]
  },
  {
   "cell_type": "markdown",
   "metadata": {},
   "source": [
    "## Joint Distributions"
   ]
  },
  {
   "cell_type": "markdown",
   "metadata": {},
   "source": [
    "Recall from Lessons 13 & 14: let $X$ be a random variable. $X$ has a distribution that is described by a probability mass function (pmf) or probability density function (pdf). \n",
    "\n",
    "We can consider multiple random variables simultaneously using joint distributions. \n",
    "\n",
    "NOTE: When answering the questions below, you are not required to use Python. If you would like to answer in Markdown, feel free to change the type of the cell, or to use both types of cells. "
   ]
  },
  {
   "cell_type": "markdown",
   "metadata": {},
   "source": [
    "#### Example 1: Discrete Joint Distribution"
   ]
  },
  {
   "cell_type": "markdown",
   "metadata": {},
   "source": [
    "Let $X$ and $Y$ be discrete random variables that can each only take the values 0, 1 or 2, and do so according to the following distribution:"
   ]
  },
  {
   "cell_type": "markdown",
   "metadata": {},
   "source": [
    "\n",
    " |  | $X$  | 1 | 2 | 3 |\n",
    " |-- | ------ | ------ |\n",
    " |  | 1 | 0.17 | 0.15 | 0.08 |\n",
    " | $Y$ | 2 | 0.00 | 0.10 | 0.10 |\n",
    " |  | 3 | 0.08 | 0.20 | 0.12 |\n",
    " \n"
   ]
  },
  {
   "cell_type": "markdown",
   "metadata": {},
   "source": [
    "This is an example of a joint probability mass function (joint pmf), and is denoted as $f_{X,Y}(x,y)$. \n",
    "\n",
    "For example, the probability that $X$ takes the value 1 AND $Y$ takes the value 3, or $P(X=1,Y=3)$ is equal to 0.08. "
   ]
  },
  {
   "cell_type": "markdown",
   "metadata": {},
   "source": [
    "**_1.1_** Find $P(X = 2,Y=3)$. \n",
    "\n",
    "**_1.2_** Find $E(X+Y)$. "
   ]
  },
  {
   "cell_type": "code",
   "execution_count": 4,
   "metadata": {},
   "outputs": [
    {
     "data": {
      "text/plain": [
       "0.2"
      ]
     },
     "execution_count": 4,
     "metadata": {},
     "output_type": "execute_result"
    }
   ],
   "source": [
    ".2"
   ]
  },
  {
   "cell_type": "code",
   "execution_count": 5,
   "metadata": {},
   "outputs": [
    {
     "data": {
      "text/plain": [
       "4.05"
      ]
     },
     "execution_count": 5,
     "metadata": {},
     "output_type": "execute_result"
    }
   ],
   "source": [
    "# Sum across all possible values for (x+y)\n",
    "2*(.17)+3*(.15)+4*(.08+.1+.08)+5*(.1+.2)+6*(.12)"
   ]
  },
  {
   "cell_type": "markdown",
   "metadata": {},
   "source": [
    "### Marginal Probability"
   ]
  },
  {
   "cell_type": "markdown",
   "metadata": {},
   "source": [
    "When given a joint pmf like this, we may want to know the distribution of $X$ or $Y$ individually. Specifically, we might want to know $P(X=1)$ or $f_Y(y)$. \n",
    "\n",
    "Marginal probability can be found by summing across the remaining variable. Specifically,\n",
    "\n",
    "$$\n",
    "f_X(x)=\\sum_y f_{X,Y}(x,y)\n",
    "$$\n",
    "and \n",
    "$$\n",
    "f_Y(y)=\\sum_x f_{X,Y}(x,y)\n",
    "$$\n"
   ]
  },
  {
   "cell_type": "markdown",
   "metadata": {},
   "source": [
    "**_1.3_** Find $P(X=2)$. \n",
    "\n",
    "**_1.4_** Find $f_Y(y)$ (the marginal pmf of $Y$). \n",
    "\n",
    "**_1.5_** Find $E(Y)$ and $V(Y)$. "
   ]
  },
  {
   "cell_type": "code",
   "execution_count": 6,
   "metadata": {},
   "outputs": [
    {
     "data": {
      "text/plain": [
       "0.45"
      ]
     },
     "execution_count": 6,
     "metadata": {},
     "output_type": "execute_result"
    }
   ],
   "source": [
    "#Sum across y for x = 2\n",
    ".15+.1+.2"
   ]
  },
  {
   "cell_type": "markdown",
   "metadata": {
    "scrolled": true
   },
   "source": [
    "Probabilities that Y=y for all possible values of Y, summed across X individually."
   ]
  },
  {
   "cell_type": "markdown",
   "metadata": {},
   "source": [
    "| $Y$ | $P(Y=y)$ |\n",
    "| -- | ----- |\n",
    "| 1 | .17+.15+.08 = .4 |\n",
    "| 2 | .1 + .1 = .2 |\n",
    "| 3 | .08 + .2 + .12 = .4 |"
   ]
  },
  {
   "cell_type": "code",
   "execution_count": 7,
   "metadata": {},
   "outputs": [
    {
     "data": {
      "text/plain": [
       "2.0"
      ]
     },
     "execution_count": 7,
     "metadata": {},
     "output_type": "execute_result"
    }
   ],
   "source": [
    "#Sum across x for each possible value of Y, then sum Y*P(y) for all possible values of Y.\n",
    "Ey = 1*(.17+.15+.08) + 2*(.1+.1) + 3*(.08+.2+.12)\n",
    "Ey"
   ]
  },
  {
   "cell_type": "code",
   "execution_count": 8,
   "metadata": {},
   "outputs": [
    {
     "data": {
      "text/plain": [
       "0.8"
      ]
     },
     "execution_count": 8,
     "metadata": {},
     "output_type": "execute_result"
    }
   ],
   "source": [
    "#Sum of (Y - E(Y))**2 * f(Y) for all possible values of Y\n",
    "(1-Ey)**2 * .4 + (2-Ey)**2 * .2 + (3-Ey)**2 * .4"
   ]
  },
  {
   "cell_type": "markdown",
   "metadata": {},
   "source": [
    "### Conditional Probability\n",
    "\n",
    "We may be interested in the probability $X$ takes a specific value conditioned on the value of $Y$. Recall that conditional probability is given by $P(A|B)=\\frac{P(A,B)}{P(B)}$. \n",
    "\n",
    "So, essentially, conditional probability can be found by dividing the joint probability by the appropriate marginal probability. "
   ]
  },
  {
   "cell_type": "markdown",
   "metadata": {},
   "source": [
    "**_1.6_** Find $P(Y=1|X=3)$. \n",
    "\n",
    "**_1.7_** Find $f_{X|Y=2}(x)$, the conditional pmf of $X$, given $Y=2$. \n",
    "\n",
    "**_1.8_** Find $E(X|Y=2)$ and $V(X|Y=2)$. "
   ]
  },
  {
   "cell_type": "code",
   "execution_count": 9,
   "metadata": {
    "scrolled": true
   },
   "outputs": [
    {
     "data": {
      "text/plain": [
       "0.26666666666666666"
      ]
     },
     "execution_count": 9,
     "metadata": {},
     "output_type": "execute_result"
    }
   ],
   "source": [
    "#P(X=3,Y=1)/P(X=3) -or- across the column where x=3, divide P(Y=1) over sum P(Y=y)\n",
    ".08/.3"
   ]
  },
  {
   "cell_type": "markdown",
   "metadata": {},
   "source": [
    "| $X$ |   $P(x)$    |\n",
    "| -- | ---- |\n",
    "| 1 |   0/.2 = 0     |\n",
    "| 2 |   .1/.2 = .5   |\n",
    "| 3 |   .1/.2 = .5   |"
   ]
  },
  {
   "cell_type": "code",
   "execution_count": 10,
   "metadata": {},
   "outputs": [
    {
     "data": {
      "text/plain": [
       "2.5"
      ]
     },
     "execution_count": 10,
     "metadata": {},
     "output_type": "execute_result"
    }
   ],
   "source": [
    "Ex = 1*(0)+2*(.5)+3*(.5)\n",
    "Ex"
   ]
  },
  {
   "cell_type": "code",
   "execution_count": 11,
   "metadata": {},
   "outputs": [
    {
     "data": {
      "text/plain": [
       "0.25"
      ]
     },
     "execution_count": 11,
     "metadata": {},
     "output_type": "execute_result"
    }
   ],
   "source": [
    "(2-Ex)**2 * .5 + (3-Ex)**2 * .5"
   ]
  },
  {
   "cell_type": "markdown",
   "metadata": {},
   "source": [
    "**_1.9_** Are $X$ and $Y$ independent? Why or why not? "
   ]
  },
  {
   "cell_type": "code",
   "execution_count": 12,
   "metadata": {},
   "outputs": [
    {
     "data": {
      "text/plain": [
       "False"
      ]
     },
     "execution_count": 12,
     "metadata": {},
     "output_type": "execute_result"
    }
   ],
   "source": [
    "#Independent would mean P(X=x) and P(X=x|Y=y) are the same for all values of x and y.\n",
    "#P(A|B) = P(A), P(B|A) = P(B)\n",
    "#Let A be X=1 and B be Y=1 as an example...P(X=1,Y=1)/P(Y=1) ?= P(X=1)\n",
    ".17/.4 == .25"
   ]
  },
  {
   "cell_type": "markdown",
   "metadata": {},
   "source": [
    "Not independent. The marginal probabilities are different than the conditional probabilities."
   ]
  },
  {
   "cell_type": "markdown",
   "metadata": {},
   "source": [
    "### Covariance and Correlation\n",
    "\n",
    "Expected value and variance help us characterize $X$ and $Y$ marginally and conditionally, but we may also be interested in measuring the relationship between $X$ and $Y$. For this, we use *covariance*. \n",
    "\n",
    "$$\n",
    "Cov(X,Y)=E[(X-E(X))(Y-E(Y))] = E(XY)-E(X)E(Y)\n",
    "$$\n",
    "\n",
    "Note that if $X$ and $Y$ are independent, $Cov(X,Y) =0$. The converse is NOT necessarily true. \n",
    "\n",
    "Covariance is dependent on the scales of $X$ and $Y$, so if the two variables are of vastly different scale, we'll want to use covariance's unitless counterpart, correlation, denoted by $\\rho$. \n",
    "\n",
    "$$\n",
    "\\rho = \\frac{Cov(X,Y)}{\\sqrt{Var(X)Var(Y)}}\n",
    "$$\n",
    "\n",
    "$\\rho$ is bounded by the interval $[-1,1]$. When $\\rho=1$, $X$ and $Y$ are perfectly positively correlated. Similarly, when $\\rho=-1$, $X$ and $Y$ are perfectly negatively correlated. "
   ]
  },
  {
   "cell_type": "markdown",
   "metadata": {},
   "source": [
    "**_1.10_** Find $Cov(X,Y)$\n",
    "\n",
    "**_1.11_** Find $Corr(X,Y)$, or $\\rho$. "
   ]
  },
  {
   "cell_type": "code",
   "execution_count": 21,
   "metadata": {},
   "outputs": [
    {
     "data": {
      "text/html": [
       "<table border=\"1\" class=\"dataframe\">\n",
       "    <thead>\n",
       "        <tr>\n",
       "            <th>X</th> <th>P(X=x)</th>\n",
       "        </tr>\n",
       "    </thead>\n",
       "    <tbody>\n",
       "        <tr>\n",
       "            <td>1   </td> <td>0.25  </td>\n",
       "        </tr>\n",
       "        <tr>\n",
       "            <td>2   </td> <td>0.45  </td>\n",
       "        </tr>\n",
       "        <tr>\n",
       "            <td>3   </td> <td>0.3   </td>\n",
       "        </tr>\n",
       "    </tbody>\n",
       "</table>"
      ],
      "text/plain": [
       "<IPython.core.display.HTML object>"
      ]
     },
     "metadata": {},
     "output_type": "display_data"
    },
    {
     "data": {
      "text/html": [
       "<table border=\"1\" class=\"dataframe\">\n",
       "    <thead>\n",
       "        <tr>\n",
       "            <th>Y</th> <th>P(Y=y)</th>\n",
       "        </tr>\n",
       "    </thead>\n",
       "    <tbody>\n",
       "        <tr>\n",
       "            <td>1   </td> <td>0.4   </td>\n",
       "        </tr>\n",
       "        <tr>\n",
       "            <td>2   </td> <td>0.2   </td>\n",
       "        </tr>\n",
       "        <tr>\n",
       "            <td>3   </td> <td>0.4   </td>\n",
       "        </tr>\n",
       "    </tbody>\n",
       "</table>"
      ],
      "text/plain": [
       "<IPython.core.display.HTML object>"
      ]
     },
     "metadata": {},
     "output_type": "display_data"
    }
   ],
   "source": [
    "#Construct marginal probabilities table\n",
    "x_marginal_table = Table().with_columns('X',np.arange(1,4),'P(X=x)',np.array([.25,.45,.3]))\n",
    "y_marginal_table = Table().with_columns('Y',np.arange(1,4),'P(Y=y)',np.array([.4,.2,.4]))\n",
    "x_marginal_table.show()\n",
    "y_marginal_table.show()"
   ]
  },
  {
   "cell_type": "code",
   "execution_count": 22,
   "metadata": {},
   "outputs": [
    {
     "data": {
      "text/plain": [
       "0.13000000000000078"
      ]
     },
     "execution_count": 22,
     "metadata": {},
     "output_type": "execute_result"
    }
   ],
   "source": [
    "#Expected values\n",
    "E_xy = 1*(.17)+2*(.15+0)+3*(.08+.08)+4*(.1)+6*(.1+.2)+9*(.12)\n",
    "E_x = np.sum(x_marginal_table.column(0)*x_marginal_table.column(1))\n",
    "E_y = np.sum(y_marginal_table.column(0)*y_marginal_table.column(1))\n",
    "\n",
    "#Covariance\n",
    "cov = E_xy - E_x*E_y\n",
    "cov"
   ]
  },
  {
   "cell_type": "code",
   "execution_count": 25,
   "metadata": {},
   "outputs": [
    {
     "data": {
      "text/plain": [
       "0.1964293126950385"
      ]
     },
     "execution_count": 25,
     "metadata": {},
     "output_type": "execute_result"
    }
   ],
   "source": [
    "#Variance\n",
    "V_x = np.sum((x_marginal_table.column(0)-E_x)**2 * x_marginal_table.column(1))\n",
    "V_y = np.sum((y_marginal_table.column(0)-E_y)**2 * y_marginal_table.column(1))\n",
    "\n",
    "#Correlation\n",
    "corr = cov/(V_x*V_y)**.5\n",
    "corr"
   ]
  },
  {
   "cell_type": "markdown",
   "metadata": {},
   "source": [
    "In problem 1.2, we found $E(X+Y)$. In order to find $Var(X+Y)$, we need to know how $X$ and $Y$ are correlated: \n",
    "\n",
    "$$\n",
    "Var(X+Y)= Var(X)+Var(Y)+2*Cov(X,Y)\n",
    "$$"
   ]
  },
  {
   "cell_type": "markdown",
   "metadata": {},
   "source": [
    "**_1.12_** Find $Var(X+Y)$. "
   ]
  },
  {
   "cell_type": "code",
   "execution_count": 26,
   "metadata": {},
   "outputs": [
    {
     "data": {
      "text/plain": [
       "1.6075000000000017"
      ]
     },
     "execution_count": 26,
     "metadata": {},
     "output_type": "execute_result"
    }
   ],
   "source": [
    "V_x + V_y + 2*cov"
   ]
  },
  {
   "cell_type": "markdown",
   "metadata": {},
   "source": [
    "#### Example 2: Continuous Joint Distribution\n",
    "\n",
    "All of the concepts above apply to continuous random variables. Consider continuous random variables $X$ and $Y$ with the following joint pdf:\n",
    "\n",
    "$$\n",
    "f_{X,Y}(x,y)=k(x+y)\n",
    "$$\n",
    "\n",
    "where both $x$ and $y$ are bounded by the interval $[0,1]$. "
   ]
  },
  {
   "cell_type": "markdown",
   "metadata": {},
   "source": [
    "Additional documentation: https://www.probabilitycourse.com/chapter5/5_2_1_joint_pdf.php"
   ]
  },
  {
   "cell_type": "markdown",
   "metadata": {},
   "source": [
    "**_2.1_** Find the value of $k$ that makes $f$ a valid joint pdf. "
   ]
  },
  {
   "cell_type": "markdown",
   "metadata": {},
   "source": [
    "A valid joint pdf requires:\n",
    "$$\n",
    "\\int\\int_{A}k(x+y)dxdy=1\n",
    "$$\n",
    "\n",
    "$$\n",
    "\\int_{0}^{1}\\int_{0}^{1}k(x+y)dxdy=1\n",
    "$$\n",
    "$$\n",
    "k \\int_{0}^{1}[.5x^2+xy]\\biggr|_{x=0}^{x=1}dy = 1\n",
    "$$\n",
    "$$\n",
    "k\\int_{0}^{1}.5+y  dy = 1\n",
    "$$\n",
    "$$\n",
    "k[.5y+.5y^2]\\biggr|_{0}^{1} = 1\n",
    "$$\n",
    "\n",
    "$$\n",
    "k(1)=1\n",
    "$$\n",
    "$$\n",
    "k=1\n",
    "$$"
   ]
  },
  {
   "cell_type": "markdown",
   "metadata": {},
   "source": [
    "**_2.2_** Find $P(X<0.5,Y<0.5)$"
   ]
  },
  {
   "cell_type": "markdown",
   "metadata": {},
   "source": [
    "$$\n",
    "\\int\\int_B(x+y)dxdy\n",
    "$$\n",
    "\n",
    "$$\n",
    "B = \\{(x,y) | 0<x,y<.5\\}\n",
    "$$\n",
    "\n",
    "$$\n",
    "\\int_{0}^{.5}\\int_{0}^{.5}(x+y)dxdy\n",
    "$$\n",
    "\n",
    "$$\n",
    "\\int_{0}^{.5}[.5x^2+xy]\\biggr|_{x=0}^{x=.5}dy\n",
    "$$\n",
    "\n",
    "$$\n",
    "\\int_{0}^{.5}0.125+.5ydy\n",
    "$$\n",
    "\n",
    "$$\n",
    "[.0125y+.25y^2]\\biggr|_{0}^{.5} = \\frac{1}{16} + \\frac{1}{16} = 0.125\n",
    "$$"
   ]
  },
  {
   "cell_type": "markdown",
   "metadata": {},
   "source": [
    "**_2.3_** Find $f_X(x)$ and $f_Y(y)$, the marginal pdfs of $X$ and $Y$. \n",
    "\n",
    "**_2.4_** Find $E(X)$ and $E(Y)$. "
   ]
  },
  {
   "cell_type": "markdown",
   "metadata": {},
   "source": [
    "$$\n",
    "f_{X}(x) = \\int_{0}^{1}(x+y)dy = [xy + .5y^2]\\biggr|_{y=0}^{y=1} = x + .5\n",
    "$$\n",
    "\n",
    "$$\n",
    "f_{Y}(y) = \\int_{0}^{1}(x+y)dx = [.5x^2 + xy]\\biggr|_{x=0}^{x=1} = y + .5\n",
    "$$"
   ]
  },
  {
   "cell_type": "markdown",
   "metadata": {},
   "source": [
    "$$\n",
    "E(X) = \\int_{0}^{1}xf_{X}(x)dx\n",
    "$$\n",
    "$$\n",
    "E(X) = \\int_{0}^{1}(x^2+.5x)dx\n",
    "$$\n",
    "$$\n",
    "E(X) = [\\frac{x^3}{3} + .25x^2]\\biggr|_{0}^{1} = \\frac{1}{3} + \\frac{1}{4} = \\frac{7}{12}\n",
    "$$"
   ]
  },
  {
   "cell_type": "markdown",
   "metadata": {},
   "source": [
    "$$\n",
    "E(Y) = \\int_{0}^{1}yf_{Y}(y)dy\n",
    "$$\n",
    "$$\n",
    "E(Y) = \\int_{0}^{1}(y^2+.5y)dy\n",
    "$$\n",
    "$$\n",
    "E(Y) = [\\frac{y^3}{3} + .25y^2]\\biggr|_{0}^{1} = \\frac{1}{3} + \\frac{1}{4} = \\frac{7}{12}\n",
    "$$"
   ]
  },
  {
   "cell_type": "markdown",
   "metadata": {},
   "source": [
    "**_2.5_** Find $P(X>0.5\\vert Y\\leq 0.5)$. "
   ]
  },
  {
   "cell_type": "markdown",
   "metadata": {},
   "source": [
    "$$\n",
    "\\frac{\\int_{0}^{.5}\\int_{.5}^{1}(x+y)dxdy}{\\int_{0}^{.5}f_{Y}(y)dy}\n",
    "$$\n",
    "\n",
    "$$\n",
    "\\frac{\\int_{0}^{.5}\\int_{.5}^{1}(x+y)dxdy}{[y^2+.5y]\\biggr|_{0}^{.5}}\n",
    "$$\n",
    "\n",
    "$$\n",
    "\\frac{\\int_{0}^{.5}\\int_{.5}^{1}(x+y)dxdy}{.5}=2\\int_{0}^{.5}\\int_{.5}^{1}(x+y)dxdy\n",
    "$$\n",
    "\n",
    "$$\n",
    "2\\int_{0}^{.5}[.5x^2+xy]\\biggr|_{x=.5}^{x=1}dy\n",
    "$$\n",
    "\n",
    "$$\n",
    "2\\int_{0}^{.5}(.5(1)+(1)y-.5(.25)-.5y)dy=2\\int_{0}^{.5}(.375+.5y)dy\n",
    "$$\n",
    "\n",
    "$$\n",
    "\\int_{0}^{.5}(.75+y)dy = [.75y+.5y^2]\\biggr|_{0}^{.5} = .375 + .125 = 0.5\n",
    "$$"
   ]
  },
  {
   "cell_type": "markdown",
   "metadata": {},
   "source": [
    "**_2.6_** Find the conditional distributions of $X|Y$ and $Y|X$. Recall that conditional distributions can be found by dividing the joint pdf by the relevant marginal pdf. \n",
    "\n",
    "**_2.7_** Find $E(X|Y)$ and $E(Y|X)$."
   ]
  },
  {
   "cell_type": "markdown",
   "metadata": {},
   "source": [
    "$$\n",
    "P(X|Y=y)=\\frac{f_{XY}(x,y)}{f_{Y}(y)}=\\frac{x+y}{y+.5}\n",
    "$$\n",
    "\n",
    "$$\n",
    "P(Y|X=x)=\\frac{f_{XY}(x,y)}{f_{X}(x)}=\\frac{x+y}{x+.5}\n",
    "$$"
   ]
  },
  {
   "cell_type": "markdown",
   "metadata": {},
   "source": [
    "$$\n",
    "E(X|Y) = \\int_{0}^{1}\\frac{x(x+y)}{y+.5}dx\n",
    "$$\n",
    "\n",
    "$$\n",
    "E(X|Y) = \\int_{0}^{1}\\frac{x^2+xy}{y+.5}dx\n",
    "$$\n",
    "\n",
    "$$\n",
    "E(X|Y) = \\frac{3y+2}{6y+3}\n",
    "$$\n",
    "\n",
    "\n",
    "$$\n",
    "E(Y|X) = \\int_{0}^{1}\\frac{y(x+y)}{x+.5}dy\n",
    "$$\n",
    "\n",
    "$$\n",
    "E(Y|X) = \\int_{0}^{1}\\frac{xy+y^2}{x+.5}dy\n",
    "$$\n",
    "\n",
    "$$\n",
    "E(Y|X) = \\frac{3x+2}{6x+3}\n",
    "$$"
   ]
  },
  {
   "cell_type": "markdown",
   "metadata": {},
   "source": [
    "**_2.8_** Are $X$ and $Y$ independent? "
   ]
  },
  {
   "cell_type": "markdown",
   "metadata": {},
   "source": [
    "$$\n",
    "f_{XY}(x,y) \\stackrel{?}{=} f_{X}(x)f_{Y}(y)\n",
    "$$\n",
    "\n",
    "$$\n",
    "(x+y) \\stackrel{?}{=} (x+.5)(y+.5)\n",
    "$$\n",
    "\n",
    "$$\n",
    "(x+y) \\neq (x+.5)(y+.5)\n",
    "$$\n",
    "\n",
    "No, they are dependent."
   ]
  },
  {
   "cell_type": "markdown",
   "metadata": {},
   "source": [
    "**_2.9_** What is $Cov(X,Y)$? "
   ]
  },
  {
   "cell_type": "markdown",
   "metadata": {},
   "source": [
    "$$\n",
    "Cov(X,Y)=\\int_{0}^{1}\\int_{0}^{1}(x-E(X))(y-E(Y))f_{XY}(x,y)dxdy\n",
    "$$\n",
    "\n",
    "$$\n",
    "Cov(X,Y)=\\int_{0}^{1}\\int_{0}^{1}(x-\\frac{7}{12}))(y-\\frac{7}{12})(x+y)dxdy\n",
    "$$\n",
    "\n",
    "$$Cov(X,Y)=\\frac{-1}{144}$$"
   ]
  }
 ],
 "metadata": {
  "kernelspec": {
   "display_name": "Python 3",
   "language": "python",
   "name": "python3"
  },
  "language_info": {
   "codemirror_mode": {
    "name": "ipython",
    "version": 3
   },
   "file_extension": ".py",
   "mimetype": "text/x-python",
   "name": "python",
   "nbconvert_exporter": "python",
   "pygments_lexer": "ipython3",
   "version": "3.6.5"
  }
 },
 "nbformat": 4,
 "nbformat_minor": 2
}
