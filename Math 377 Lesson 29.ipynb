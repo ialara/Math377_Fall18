{
 "cells": [
  {
   "cell_type": "code",
   "execution_count": 3,
   "metadata": {},
   "outputs": [],
   "source": [
    "from datascience import *\n",
    "import numpy as np\n",
    "from math import *\n",
    "from scipy import stats\n",
    "import matplotlib.pyplot as plt\n",
    "%matplotlib inline"
   ]
  },
  {
   "cell_type": "markdown",
   "metadata": {},
   "source": [
    "## Lesson 29: Maximum Likelihood Estimation"
   ]
  },
  {
   "cell_type": "markdown",
   "metadata": {},
   "source": [
    "Last lesson, we studied method of moments estimators. These estimators are obtained by setting the moments of a distribution equal to the sample moments obtained from an independent random sample, and then solving for the parameters of interest. As we saw, method of moments estimators are relatively easy to find, but don't always make sense (as in the case of $X\\sim \\textsf{Unif}(0,b)$.) \n",
    "\n",
    "Another way to estimate is by maximizing the likelihood function. First, we should introduce the likelihood function. The likelihood function, $L(\\theta \\mid \\textbf{x})$, is a function of $\\theta$ that is larger for likelier values of $\\theta$. Finding the value of $\\theta$ that maximizes this function yields a maximum likelihood estimator, or $\\hat{\\theta}_{ML}$. \n",
    "\n",
    "Let $X_1,X_2,...,X_n$ be a sequence of iid random variables with mass or density function $f(x;\\theta)$. The likelihood function is given by:\n",
    "\n",
    "$$\n",
    "L(\\theta\\mid \\textbf{x}) = \\prod_{i=1}^n f(x_i;\\theta)\n",
    "$$\n",
    "\n",
    "Often, it is easier to deal with the log of the likelihood function. This is because the log of a product is the sum of individual logs, which is often analytically \"nicer\". The log-likelihood function is denoted as $l(\\theta \\mid \\textbf{x})$ and is given by:\n",
    "\n",
    "$$\n",
    "l(\\theta\\mid\\textbf{x})=\\log \\prod_{i=1}^n f(x_i;\\theta) = \\sum_{i=1}^n \\log f(x_i;\\theta)\n",
    "$$\n",
    " "
   ]
  },
  {
   "cell_type": "markdown",
   "metadata": {},
   "source": [
    "### Example 1: Exponential Distribution\n",
    "\n",
    "Suppose $X_1,X_2,...,X_n$ is an iid sequence of random variables from the exponential distribution with unknown parameter $\\lambda$. I would like to obtain $\\hat{\\lambda}_{ML}$, the maximum likelihood estimate of $\\lambda$. "
   ]
  },
  {
   "cell_type": "markdown",
   "metadata": {},
   "source": [
    "Recall that if $X\\sim \\textsf{Exp}(\\lambda)$, then $f(x)=\\lambda e^{-\\lambda x}$. So,\n",
    "\n",
    "$$\n",
    "L(\\theta\\mid \\textbf{x}) = \\prod_{i=1}^n f(x_i;\\theta) = \\prod_{i=1}^n \\lambda e^{-\\lambda x_i} = \\lambda^n e^{-\\lambda \\sum x_i}\n",
    "$$\n",
    "\n",
    "Maximizing this through differentiation looks difficult. Let's consider the log-likelihood instead: \n",
    "\n",
    "$$\n",
    "l(\\theta\\mid \\textbf{x}) = n \\log \\lambda - \\lambda \\sum x_i\n",
    "$$\n",
    "\n",
    "This looks easier. Take the derivative with respect to $\\lambda$ and set to 0. Then solve for $\\lambda$. I leave this next step to you. How does your answer compare to $\\hat{\\lambda}_{MoM}$? "
   ]
  },
  {
   "cell_type": "markdown",
   "metadata": {},
   "source": [
    "$$\n",
    "\\frac{\\text{d}}{\\text{d}\\lambda}(n \\log \\lambda - \\lambda \\sum x_i) = \\frac{n}{\\lambda} - \\sum x_i = 0\n",
    "$$      \n",
    "\n",
    "$$\n",
    "\\frac{n}{\\lambda} = \\sum{x_i}\n",
    "$$  \n",
    "\n",
    "$$\n",
    "\\hat{\\lambda}_{ML} = \\frac{n}{\\sum{x_i}}\n",
    "$$  \n",
    "\n",
    "$$\n",
    "\\hat{\\lambda}_{MoM} = \\frac{1}{\\bar{x}} = \\frac{1}{\\frac{\\sum{x_i}}{n}} = \\frac{n}{\\sum{x_i}}\n",
    "$$  \n",
    "\n",
    "$$\n",
    "\\text{In this case, } \\hat{\\lambda}_{MoM} = \\hat{\\lambda}_{ML}\n",
    "$$"
   ]
  },
  {
   "cell_type": "markdown",
   "metadata": {},
   "source": [
    "### Example 2: Uniform Distribution\n",
    "\n",
    "Suppose $\\textbf{x} = X_1,X_2,...,X_n$ is an iid sequence of random variables from the continuous uniform distribution on $0 \\leq X \\leq b$ with unknown parameter $b$. I would like to obtain $\\hat{b}_{ML}$, the maximum likelihood estimate of $b$. "
   ]
  },
  {
   "cell_type": "markdown",
   "metadata": {},
   "source": [
    "This one is trickier since the domain of $X$ depends on the parameter we are trying to estimate. So I will start you off with a hint. The pdf of $X$ is $f(x)=\\frac{1}{b}$ where $0\\leq x \\leq b$ and 0 otherwise. Another way to write this is with indicator functions:\n",
    "\n",
    "$$\n",
    "f(x)={1\\over b}I(x\\leq b)\n",
    "$$\n",
    "\n",
    "where $I(x\\leq b)$ is equal to 1 if $x \\leq b$ and 0 otherwise. "
   ]
  },
  {
   "cell_type": "markdown",
   "metadata": {},
   "source": [
    "$$\n",
    "\\prod_{i=1}^{n} f(x_i; b) = \\frac{1}{b^n} \\prod_{i=1}^{n} I(x_i \\leq b) = \\frac{1}{b^n} I(\\max({\\textbf{x}}) \\leq b)\n",
    "$$"
   ]
  },
  {
   "cell_type": "markdown",
   "metadata": {},
   "source": [
    ">Max of the likelihood function occurs where $b = \\max({\\textbf{x}})$, because for any value of $b < \\max({\\textbf{x}})$, the indicator function evaluates to 0. For any value of $b \\geq \\max({\\textbf{x}})$, the likelihood function evaluates to $\\frac{1}{b^n}$, which decreases as $b$. Therefore, \n",
    "\n",
    "$$\n",
    "\\hat{b}_{ML} = \\max (\\textbf{x})\n",
    "$$"
   ]
  },
  {
   "cell_type": "markdown",
   "metadata": {},
   "source": [
    "### Example 3: Binomial Distribution\n",
    "\n",
    "Suppose $\\textbf{x} = X_1,X_2,...,X_n$ is an iid sequence of random variables with the binomial distribution with 20 trials and unknown probability of success $\\pi$. Find the maximum likelihood estimate of $\\pi$. "
   ]
  },
  {
   "cell_type": "markdown",
   "metadata": {},
   "source": [
    "$$\n",
    "X \\sim \\textsf{Bin}(20, \\pi)\n",
    "$$  \n",
    "\n",
    "$$\n",
    "f(X_i; \\pi) = \\left(\\frac{20!}{X_i!(20-X_i)!}\\right)\\pi^{X_i}(1-\\pi)^{20-X_i}\n",
    "$$  \n",
    "\n",
    "$$\n",
    "L(\\pi \\mid \\textbf{x}) = \\prod_{i=1}^{n} f(X_i; \\pi) = \\left(\\frac{(20!)^n}{\\prod_{i=1}^{n} X_i!(20-X_i)!}\\right)\\pi^{\\Sigma X_i}(1-\\pi)^{20n - \\Sigma X_i}\n",
    "$$\n",
    "\n",
    "$$\n",
    "l(\\pi \\mid \\textbf{x}) = \\log L = \\log\\left(\\frac{(20!)^n}{\\prod_{i=1}^{n} X_i!(20-X_i)!}\\right) + \\Sigma X_i \\log(\\pi) + (20n - \\Sigma X_i) \\log(1-\\pi)\n",
    "$$\n",
    "\n",
    "$$\n",
    "\\frac{dl}{d\\pi} = 0 + \\frac{\\Sigma X_i}{\\pi} + \\frac{-(20n - \\Sigma X_i)}{1-\\pi} = 0\n",
    "$$\n",
    "\n",
    "$$\n",
    "\\frac{\\Sigma X_i}{\\pi} = \\frac{20n - \\Sigma X_i}{1-\\pi}\n",
    "$$\n",
    "\n",
    "$$\n",
    "\\frac{1-\\pi}{\\pi} = \\frac{20n - \\Sigma X_i}{\\Sigma X_i}\n",
    "$$\n",
    "\n",
    "$$\n",
    "1-\\pi = \\frac{20n\\pi - \\pi \\Sigma X_i}{\\Sigma X_i}\n",
    "$$\n",
    "\n",
    "$$\n",
    "1 = \\frac{20n\\pi - \\pi \\Sigma X_i + \\pi \\Sigma X_i}{\\Sigma X_i} = \\frac{20n\\pi}{\\Sigma X_i}\n",
    "$$\n",
    "\n",
    "$$\n",
    "\\hat{\\pi}_{ML} = \\frac{\\Sigma X_i}{20n}\n",
    "$$"
   ]
  }
 ],
 "metadata": {
  "kernelspec": {
   "display_name": "Python 3",
   "language": "python",
   "name": "python3"
  },
  "language_info": {
   "codemirror_mode": {
    "name": "ipython",
    "version": 3
   },
   "file_extension": ".py",
   "mimetype": "text/x-python",
   "name": "python",
   "nbconvert_exporter": "python",
   "pygments_lexer": "ipython3",
   "version": "3.6.5"
  }
 },
 "nbformat": 4,
 "nbformat_minor": 2
}
