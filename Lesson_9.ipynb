{
 "cells": [
  {
   "cell_type": "code",
   "execution_count": 2,
   "metadata": {},
   "outputs": [],
   "source": [
    "import numpy as np\n",
    "from datascience import *\n",
    "%matplotlib inline\n",
    "import matplotlib.pyplot as plots\n",
    "plots.style.use('fivethirtyeight')\n",
    "import warnings\n",
    "warnings.simplefilter(action=\"ignore\",category=FutureWarning)"
   ]
  },
  {
   "cell_type": "markdown",
   "metadata": {},
   "source": [
    "### Lesson 9\n",
    "#### Title: Functions and ‘Apply’\n",
    "##### Objectives:\n",
    "1. Understand functions in Python; write your own functions\n",
    "2. Understand how to apply functions to arrays or table columns in Python"
   ]
  },
  {
   "cell_type": "markdown",
   "metadata": {},
   "source": [
    "1. The tips.csv dataset contains data on tips collected from a restaurant.\n",
    "a. Find the mean tip broken down by sex. On one plot, build a histogram of tips for\n",
    "males overlaid with a histogram of tips for females. Discuss what you found.\n",
    "b. Repeat part a, but broken down by time."
   ]
  },
  {
   "cell_type": "markdown",
   "metadata": {},
   "source": [
    "Let's first look at the `tips` table so we know what we're working with."
   ]
  },
  {
   "cell_type": "code",
   "execution_count": 3,
   "metadata": {
    "scrolled": true
   },
   "outputs": [
    {
     "data": {
      "text/html": [
       "<table border=\"1\" class=\"dataframe\">\n",
       "    <thead>\n",
       "        <tr>\n",
       "            <th>total_bill</th> <th>tip</th> <th>sex</th> <th>smoker</th> <th>day</th> <th>time</th> <th>size</th>\n",
       "        </tr>\n",
       "    </thead>\n",
       "    <tbody>\n",
       "        <tr>\n",
       "            <td>16.99     </td> <td>1.01</td> <td>Female</td> <td>No    </td> <td>Sun </td> <td>Dinner</td> <td>2   </td>\n",
       "        </tr>\n",
       "        <tr>\n",
       "            <td>10.34     </td> <td>1.66</td> <td>Male  </td> <td>No    </td> <td>Sun </td> <td>Dinner</td> <td>3   </td>\n",
       "        </tr>\n",
       "        <tr>\n",
       "            <td>21.01     </td> <td>3.5 </td> <td>Male  </td> <td>No    </td> <td>Sun </td> <td>Dinner</td> <td>3   </td>\n",
       "        </tr>\n",
       "        <tr>\n",
       "            <td>23.68     </td> <td>3.31</td> <td>Male  </td> <td>No    </td> <td>Sun </td> <td>Dinner</td> <td>2   </td>\n",
       "        </tr>\n",
       "        <tr>\n",
       "            <td>24.59     </td> <td>3.61</td> <td>Female</td> <td>No    </td> <td>Sun </td> <td>Dinner</td> <td>4   </td>\n",
       "        </tr>\n",
       "        <tr>\n",
       "            <td>25.29     </td> <td>4.71</td> <td>Male  </td> <td>No    </td> <td>Sun </td> <td>Dinner</td> <td>4   </td>\n",
       "        </tr>\n",
       "        <tr>\n",
       "            <td>8.77      </td> <td>2   </td> <td>Male  </td> <td>No    </td> <td>Sun </td> <td>Dinner</td> <td>2   </td>\n",
       "        </tr>\n",
       "        <tr>\n",
       "            <td>26.88     </td> <td>3.12</td> <td>Male  </td> <td>No    </td> <td>Sun </td> <td>Dinner</td> <td>4   </td>\n",
       "        </tr>\n",
       "        <tr>\n",
       "            <td>15.04     </td> <td>1.96</td> <td>Male  </td> <td>No    </td> <td>Sun </td> <td>Dinner</td> <td>2   </td>\n",
       "        </tr>\n",
       "        <tr>\n",
       "            <td>14.78     </td> <td>3.23</td> <td>Male  </td> <td>No    </td> <td>Sun </td> <td>Dinner</td> <td>2   </td>\n",
       "        </tr>\n",
       "    </tbody>\n",
       "</table>\n",
       "<p>... (234 rows omitted)</p>"
      ],
      "text/plain": [
       "total_bill | tip  | sex    | smoker | day  | time   | size\n",
       "16.99      | 1.01 | Female | No     | Sun  | Dinner | 2\n",
       "10.34      | 1.66 | Male   | No     | Sun  | Dinner | 3\n",
       "21.01      | 3.5  | Male   | No     | Sun  | Dinner | 3\n",
       "23.68      | 3.31 | Male   | No     | Sun  | Dinner | 2\n",
       "24.59      | 3.61 | Female | No     | Sun  | Dinner | 4\n",
       "25.29      | 4.71 | Male   | No     | Sun  | Dinner | 4\n",
       "8.77       | 2    | Male   | No     | Sun  | Dinner | 2\n",
       "26.88      | 3.12 | Male   | No     | Sun  | Dinner | 4\n",
       "15.04      | 1.96 | Male   | No     | Sun  | Dinner | 2\n",
       "14.78      | 3.23 | Male   | No     | Sun  | Dinner | 2\n",
       "... (234 rows omitted)"
      ]
     },
     "execution_count": 3,
     "metadata": {},
     "output_type": "execute_result"
    }
   ],
   "source": [
    "tips = Table.read_table('Data/tips.csv')\n",
    "tips"
   ]
  },
  {
   "cell_type": "markdown",
   "metadata": {},
   "source": [
    "To make comparisons meaningful, we need to compute tips as a percentage of the total bill. We will make that with a new column:"
   ]
  },
  {
   "cell_type": "code",
   "execution_count": 4,
   "metadata": {},
   "outputs": [
    {
     "data": {
      "text/html": [
       "<table border=\"1\" class=\"dataframe\">\n",
       "    <thead>\n",
       "        <tr>\n",
       "            <th>total_bill</th> <th>tip</th> <th>sex</th> <th>smoker</th> <th>day</th> <th>time</th> <th>size</th> <th>tip_pct</th>\n",
       "        </tr>\n",
       "    </thead>\n",
       "    <tbody>\n",
       "        <tr>\n",
       "            <td>16.99     </td> <td>1.01</td> <td>Female</td> <td>No    </td> <td>Sun </td> <td>Dinner</td> <td>2   </td> <td>5.94467</td>\n",
       "        </tr>\n",
       "        <tr>\n",
       "            <td>10.34     </td> <td>1.66</td> <td>Male  </td> <td>No    </td> <td>Sun </td> <td>Dinner</td> <td>3   </td> <td>16.0542</td>\n",
       "        </tr>\n",
       "        <tr>\n",
       "            <td>21.01     </td> <td>3.5 </td> <td>Male  </td> <td>No    </td> <td>Sun </td> <td>Dinner</td> <td>3   </td> <td>16.6587</td>\n",
       "        </tr>\n",
       "        <tr>\n",
       "            <td>23.68     </td> <td>3.31</td> <td>Male  </td> <td>No    </td> <td>Sun </td> <td>Dinner</td> <td>2   </td> <td>13.978 </td>\n",
       "        </tr>\n",
       "        <tr>\n",
       "            <td>24.59     </td> <td>3.61</td> <td>Female</td> <td>No    </td> <td>Sun </td> <td>Dinner</td> <td>4   </td> <td>14.6808</td>\n",
       "        </tr>\n",
       "        <tr>\n",
       "            <td>25.29     </td> <td>4.71</td> <td>Male  </td> <td>No    </td> <td>Sun </td> <td>Dinner</td> <td>4   </td> <td>18.624 </td>\n",
       "        </tr>\n",
       "        <tr>\n",
       "            <td>8.77      </td> <td>2   </td> <td>Male  </td> <td>No    </td> <td>Sun </td> <td>Dinner</td> <td>2   </td> <td>22.805 </td>\n",
       "        </tr>\n",
       "        <tr>\n",
       "            <td>26.88     </td> <td>3.12</td> <td>Male  </td> <td>No    </td> <td>Sun </td> <td>Dinner</td> <td>4   </td> <td>11.6071</td>\n",
       "        </tr>\n",
       "        <tr>\n",
       "            <td>15.04     </td> <td>1.96</td> <td>Male  </td> <td>No    </td> <td>Sun </td> <td>Dinner</td> <td>2   </td> <td>13.0319</td>\n",
       "        </tr>\n",
       "        <tr>\n",
       "            <td>14.78     </td> <td>3.23</td> <td>Male  </td> <td>No    </td> <td>Sun </td> <td>Dinner</td> <td>2   </td> <td>21.8539</td>\n",
       "        </tr>\n",
       "    </tbody>\n",
       "</table>\n",
       "<p>... (234 rows omitted)</p>"
      ],
      "text/plain": [
       "total_bill | tip  | sex    | smoker | day  | time   | size | tip_pct\n",
       "16.99      | 1.01 | Female | No     | Sun  | Dinner | 2    | 5.94467\n",
       "10.34      | 1.66 | Male   | No     | Sun  | Dinner | 3    | 16.0542\n",
       "21.01      | 3.5  | Male   | No     | Sun  | Dinner | 3    | 16.6587\n",
       "23.68      | 3.31 | Male   | No     | Sun  | Dinner | 2    | 13.978\n",
       "24.59      | 3.61 | Female | No     | Sun  | Dinner | 4    | 14.6808\n",
       "25.29      | 4.71 | Male   | No     | Sun  | Dinner | 4    | 18.624\n",
       "8.77       | 2    | Male   | No     | Sun  | Dinner | 2    | 22.805\n",
       "26.88      | 3.12 | Male   | No     | Sun  | Dinner | 4    | 11.6071\n",
       "15.04      | 1.96 | Male   | No     | Sun  | Dinner | 2    | 13.0319\n",
       "14.78      | 3.23 | Male   | No     | Sun  | Dinner | 2    | 21.8539\n",
       "... (234 rows omitted)"
      ]
     },
     "execution_count": 4,
     "metadata": {},
     "output_type": "execute_result"
    }
   ],
   "source": [
    "pct = tips.with_column('tip_pct',tips.column('tip')/tips.column('total_bill')*100)\n",
    "pct"
   ]
  },
  {
   "cell_type": "markdown",
   "metadata": {},
   "source": [
    "For part a, we need to `group` the data entries by `sex`, and calculate the `mean` of those `tip` entries:"
   ]
  },
  {
   "cell_type": "code",
   "execution_count": 5,
   "metadata": {},
   "outputs": [
    {
     "data": {
      "text/html": [
       "<table border=\"1\" class=\"dataframe\">\n",
       "    <thead>\n",
       "        <tr>\n",
       "            <th>sex</th> <th>tip_pct mean</th>\n",
       "        </tr>\n",
       "    </thead>\n",
       "    <tbody>\n",
       "        <tr>\n",
       "            <td>Female</td> <td>16.6491     </td>\n",
       "        </tr>\n",
       "        <tr>\n",
       "            <td>Male  </td> <td>15.7651     </td>\n",
       "        </tr>\n",
       "    </tbody>\n",
       "</table>"
      ],
      "text/plain": [
       "sex    | tip_pct mean\n",
       "Female | 16.6491\n",
       "Male   | 15.7651"
      ]
     },
     "execution_count": 5,
     "metadata": {},
     "output_type": "execute_result"
    }
   ],
   "source": [
    "pct.select('sex','tip_pct').group('sex',np.mean)"
   ]
  },
  {
   "cell_type": "markdown",
   "metadata": {},
   "source": [
    "We will use a `hist`ogram to overlay all of the `tip`s for each `sex`."
   ]
  },
  {
   "cell_type": "code",
   "execution_count": 6,
   "metadata": {},
   "outputs": [
    {
     "name": "stderr",
     "output_type": "stream",
     "text": [
      "C:\\Users\\C20Ignacio.Lara\\AppData\\Local\\Continuum\\anaconda3\\lib\\site-packages\\matplotlib\\axes\\_axes.py:6462: UserWarning: The 'normed' kwarg is deprecated, and has been replaced by the 'density' kwarg.\n",
      "  warnings.warn(\"The 'normed' kwarg is deprecated, and has been \"\n"
     ]
    },
    {
     "data": {
      "image/png": "[encoded data removed]",
      "text/plain": [
       "<Figure size 432x288 with 1 Axes>"
      ]
     },
     "metadata": {},
     "output_type": "display_data"
    }
   ],
   "source": [
    "pct.hist('tip_pct',group='sex',unit='Tip (% of total bill)')"
   ]
  },
  {
   "cell_type": "markdown",
   "metadata": {},
   "source": [
    "This histogram shows that males tend to be tipped a lower % of the total bill than females. For example, a greater proportion of males make between 0-15% than females."
   ]
  },
  {
   "cell_type": "markdown",
   "metadata": {},
   "source": [
    "For part b, we are going to regroup by `time` instead of by `sex`."
   ]
  },
  {
   "cell_type": "code",
   "execution_count": 7,
   "metadata": {},
   "outputs": [
    {
     "data": {
      "text/html": [
       "<table border=\"1\" class=\"dataframe\">\n",
       "    <thead>\n",
       "        <tr>\n",
       "            <th>time</th> <th>tip_pct mean</th>\n",
       "        </tr>\n",
       "    </thead>\n",
       "    <tbody>\n",
       "        <tr>\n",
       "            <td>Dinner</td> <td>15.9518     </td>\n",
       "        </tr>\n",
       "        <tr>\n",
       "            <td>Lunch </td> <td>16.4128     </td>\n",
       "        </tr>\n",
       "    </tbody>\n",
       "</table>"
      ],
      "text/plain": [
       "time   | tip_pct mean\n",
       "Dinner | 15.9518\n",
       "Lunch  | 16.4128"
      ]
     },
     "execution_count": 7,
     "metadata": {},
     "output_type": "execute_result"
    }
   ],
   "source": [
    "pct.select('time','tip_pct').group('time',np.mean)"
   ]
  },
  {
   "cell_type": "code",
   "execution_count": 8,
   "metadata": {},
   "outputs": [
    {
     "name": "stderr",
     "output_type": "stream",
     "text": [
      "C:\\Users\\C20Ignacio.Lara\\AppData\\Local\\Continuum\\anaconda3\\lib\\site-packages\\matplotlib\\axes\\_axes.py:6462: UserWarning: The 'normed' kwarg is deprecated, and has been replaced by the 'density' kwarg.\n",
      "  warnings.warn(\"The 'normed' kwarg is deprecated, and has been \"\n"
     ]
    },
    {
     "data": {
      "image/png": "[encoded data removed]",
      "text/plain": [
       "<Figure size 432x288 with 1 Axes>"
      ]
     },
     "metadata": {},
     "output_type": "display_data"
    }
   ],
   "source": [
    "pct.hist('tip_pct',group='time',unit='% tip of total bill')"
   ]
  },
  {
   "cell_type": "markdown",
   "metadata": {},
   "source": [
    "This shows us that people tend to tip a higher percentage during lunch hours than during dinner.\n",
    "***\n",
    "2. Create a function called weekday_to_num. This function inputs a string denoting day of the week (Mon, Tues, Wed, Thur, Fri, Sat, Sun), and returns a number (Mon = 1, Tues = 2, … Sun = 7)."
   ]
  },
  {
   "cell_type": "code",
   "execution_count": 22,
   "metadata": {},
   "outputs": [
    {
     "name": "stdout",
     "output_type": "stream",
     "text": [
      "4\n"
     ]
    }
   ],
   "source": [
    "week_nums = {\n",
    "    \"Mon\" : 1,\n",
    "    \"Tues\" : 2,\n",
    "    \"Wed\" : 3,\n",
    "    \"Thur\" : 4,\n",
    "    \"Fri\" : 5,\n",
    "    \"Sat\" : 6,\n",
    "    \"Sun\" : 7\n",
    "}\n",
    "\n",
    "def weekday_to_num(wkd):\n",
    "    \"\"\" Returns a numerical code for a Str representing a day of the week.\n",
    "    \n",
    "    >>>weekday_to_num(\"Tues\")\n",
    "    2\n",
    "    \n",
    "    >>>weekday_to_num(\"Fri\")\n",
    "    5\n",
    "    \n",
    "    >>>weekday_to_num(\"NaN\")\n",
    "    NaN\n",
    "    \"\"\"\n",
    "    if wkd==\"NaN\":\n",
    "        return float(\"NaN\")\n",
    "    \n",
    "    return week_nums[wkd]  \n",
    "\n",
    "# Test\n",
    "print(weekday_to_num(\"Thur\"))"
   ]
  },
  {
   "cell_type": "markdown",
   "metadata": {},
   "source": [
    "3) Apply this function to the day column of tips and include the result as a new column in\n",
    "tips, called weekday_num."
   ]
  },
  {
   "cell_type": "code",
   "execution_count": 10,
   "metadata": {},
   "outputs": [
    {
     "data": {
      "text/html": [
       "<table border=\"1\" class=\"dataframe\">\n",
       "    <thead>\n",
       "        <tr>\n",
       "            <th>total_bill</th> <th>tip</th> <th>sex</th> <th>smoker</th> <th>day</th> <th>time</th> <th>size</th> <th>tip_pct</th> <th>weekday_num</th>\n",
       "        </tr>\n",
       "    </thead>\n",
       "    <tbody>\n",
       "        <tr>\n",
       "            <td>16.99     </td> <td>1.01</td> <td>Female</td> <td>No    </td> <td>Sun </td> <td>Dinner</td> <td>2   </td> <td>5.94467</td> <td>7          </td>\n",
       "        </tr>\n",
       "        <tr>\n",
       "            <td>10.34     </td> <td>1.66</td> <td>Male  </td> <td>No    </td> <td>Sun </td> <td>Dinner</td> <td>3   </td> <td>16.0542</td> <td>7          </td>\n",
       "        </tr>\n",
       "        <tr>\n",
       "            <td>21.01     </td> <td>3.5 </td> <td>Male  </td> <td>No    </td> <td>Sun </td> <td>Dinner</td> <td>3   </td> <td>16.6587</td> <td>7          </td>\n",
       "        </tr>\n",
       "        <tr>\n",
       "            <td>23.68     </td> <td>3.31</td> <td>Male  </td> <td>No    </td> <td>Sun </td> <td>Dinner</td> <td>2   </td> <td>13.978 </td> <td>7          </td>\n",
       "        </tr>\n",
       "        <tr>\n",
       "            <td>24.59     </td> <td>3.61</td> <td>Female</td> <td>No    </td> <td>Sun </td> <td>Dinner</td> <td>4   </td> <td>14.6808</td> <td>7          </td>\n",
       "        </tr>\n",
       "        <tr>\n",
       "            <td>25.29     </td> <td>4.71</td> <td>Male  </td> <td>No    </td> <td>Sun </td> <td>Dinner</td> <td>4   </td> <td>18.624 </td> <td>7          </td>\n",
       "        </tr>\n",
       "        <tr>\n",
       "            <td>8.77      </td> <td>2   </td> <td>Male  </td> <td>No    </td> <td>Sun </td> <td>Dinner</td> <td>2   </td> <td>22.805 </td> <td>7          </td>\n",
       "        </tr>\n",
       "        <tr>\n",
       "            <td>26.88     </td> <td>3.12</td> <td>Male  </td> <td>No    </td> <td>Sun </td> <td>Dinner</td> <td>4   </td> <td>11.6071</td> <td>7          </td>\n",
       "        </tr>\n",
       "        <tr>\n",
       "            <td>15.04     </td> <td>1.96</td> <td>Male  </td> <td>No    </td> <td>Sun </td> <td>Dinner</td> <td>2   </td> <td>13.0319</td> <td>7          </td>\n",
       "        </tr>\n",
       "        <tr>\n",
       "            <td>14.78     </td> <td>3.23</td> <td>Male  </td> <td>No    </td> <td>Sun </td> <td>Dinner</td> <td>2   </td> <td>21.8539</td> <td>7          </td>\n",
       "        </tr>\n",
       "    </tbody>\n",
       "</table>\n",
       "<p>... (234 rows omitted)</p>"
      ],
      "text/plain": [
       "total_bill | tip  | sex    | smoker | day  | time   | size | tip_pct | weekday_num\n",
       "16.99      | 1.01 | Female | No     | Sun  | Dinner | 2    | 5.94467 | 7\n",
       "10.34      | 1.66 | Male   | No     | Sun  | Dinner | 3    | 16.0542 | 7\n",
       "21.01      | 3.5  | Male   | No     | Sun  | Dinner | 3    | 16.6587 | 7\n",
       "23.68      | 3.31 | Male   | No     | Sun  | Dinner | 2    | 13.978  | 7\n",
       "24.59      | 3.61 | Female | No     | Sun  | Dinner | 4    | 14.6808 | 7\n",
       "25.29      | 4.71 | Male   | No     | Sun  | Dinner | 4    | 18.624  | 7\n",
       "8.77       | 2    | Male   | No     | Sun  | Dinner | 2    | 22.805  | 7\n",
       "26.88      | 3.12 | Male   | No     | Sun  | Dinner | 4    | 11.6071 | 7\n",
       "15.04      | 1.96 | Male   | No     | Sun  | Dinner | 2    | 13.0319 | 7\n",
       "14.78      | 3.23 | Male   | No     | Sun  | Dinner | 2    | 21.8539 | 7\n",
       "... (234 rows omitted)"
      ]
     },
     "execution_count": 10,
     "metadata": {},
     "output_type": "execute_result"
    }
   ],
   "source": [
    "pct = pct.with_column('weekday_num',pct.apply(weekday_to_num, 'day'))\n",
    "pct"
   ]
  },
  {
   "cell_type": "markdown",
   "metadata": {},
   "source": [
    "4) Create a function called est_tip. The goal of this function is to predict tip amount based on the value of the bill (total_bill). To do this, we will look at “nearby” values (i.e. tip, where the value of total_bill is near the value of interest.) For example, if we want to predict the tip for total bill value of \\$20, we will simply look at all total bills near \\$20 and average the tip amount. The input of est_tip should be the total bill amount and the window, or the difference in total bill we would consider “nearby”. For example, for a window of \\$1, we will look at all bills totaling \\$19 thru \\$21. The output of this function will be the predicted tip amount."
   ]
  },
  {
   "cell_type": "code",
   "execution_count": 25,
   "metadata": {},
   "outputs": [],
   "source": [
    "def est_tip(bill,rng, as_pct=False):\n",
    "    \"\"\"\n",
    "    Returns a predicted tip based on a given bill amount.\n",
    "    \n",
    "    Compares all entries of bill, plus or minus rng, from the pct table and computes the average\n",
    "    tip amount. If as_pct is True, returns the average percentage of total bill given as a tip.\n",
    "    If as_pct is False, returns the average dollar amount.\n",
    "    \n",
    "    >>>est_tip(20,1)\n",
    "    3.143333333333333\n",
    "    \n",
    "    >>>est_tip(20,1,as_pct=True)\n",
    "    15.527538491744638\n",
    "    \"\"\"\n",
    "    tip_val = 'tip'\n",
    "    \n",
    "    if as_pct:\n",
    "        tip_val = 'tip_pct'\n",
    "        \n",
    "    return np.mean(pct.where('total_bill',are.between(bill-rng,bill+rng)).column(tip_val))"
   ]
  },
  {
   "cell_type": "markdown",
   "metadata": {},
   "source": [
    "5) Apply this function to the `total_bill` column of `tips` and include the result as a new column in `tips`. Build a `scatter`plot showing predicted tip amount overlaid with actual tip amount."
   ]
  },
  {
   "cell_type": "code",
   "execution_count": 15,
   "metadata": {},
   "outputs": [
    {
     "data": {
      "text/html": [
       "<table border=\"1\" class=\"dataframe\">\n",
       "    <thead>\n",
       "        <tr>\n",
       "            <th>total_bill</th> <th>tip</th> <th>sex</th> <th>smoker</th> <th>day</th> <th>time</th> <th>size</th> <th>tip_pct</th> <th>weekday_num</th> <th>Predicted Tip ($)</th> <th>Predicted Tip (%)</th>\n",
       "        </tr>\n",
       "    </thead>\n",
       "    <tbody>\n",
       "        <tr>\n",
       "            <td>16.99     </td> <td>1.01</td> <td>Female</td> <td>No    </td> <td>Sun </td> <td>Dinner</td> <td>2   </td> <td>5.94467</td> <td>7          </td> <td>2.82437          </td> <td>16.66            </td>\n",
       "        </tr>\n",
       "        <tr>\n",
       "            <td>10.34     </td> <td>1.66</td> <td>Male  </td> <td>No    </td> <td>Sun </td> <td>Dinner</td> <td>3   </td> <td>16.0542</td> <td>7          </td> <td>1.81136          </td> <td>17.6281          </td>\n",
       "        </tr>\n",
       "        <tr>\n",
       "            <td>21.01     </td> <td>3.5 </td> <td>Male  </td> <td>No    </td> <td>Sun </td> <td>Dinner</td> <td>3   </td> <td>16.6587</td> <td>7          </td> <td>3.3425           </td> <td>16.0786          </td>\n",
       "        </tr>\n",
       "        <tr>\n",
       "            <td>23.68     </td> <td>3.31</td> <td>Male  </td> <td>No    </td> <td>Sun </td> <td>Dinner</td> <td>2   </td> <td>13.978 </td> <td>7          </td> <td>3.33867          </td> <td>14.1357          </td>\n",
       "        </tr>\n",
       "        <tr>\n",
       "            <td>24.59     </td> <td>3.61</td> <td>Female</td> <td>No    </td> <td>Sun </td> <td>Dinner</td> <td>4   </td> <td>14.6808</td> <td>7          </td> <td>3.56267          </td> <td>14.4335          </td>\n",
       "        </tr>\n",
       "        <tr>\n",
       "            <td>25.29     </td> <td>4.71</td> <td>Male  </td> <td>No    </td> <td>Sun </td> <td>Dinner</td> <td>4   </td> <td>18.624 </td> <td>7          </td> <td>4.19909          </td> <td>16.6893          </td>\n",
       "        </tr>\n",
       "        <tr>\n",
       "            <td>8.77      </td> <td>2   </td> <td>Male  </td> <td>No    </td> <td>Sun </td> <td>Dinner</td> <td>2   </td> <td>22.805 </td> <td>7          </td> <td>1.865            </td> <td>20.7116          </td>\n",
       "        </tr>\n",
       "        <tr>\n",
       "            <td>26.88     </td> <td>3.12</td> <td>Male  </td> <td>No    </td> <td>Sun </td> <td>Dinner</td> <td>4   </td> <td>11.6071</td> <td>7          </td> <td>3.48111          </td> <td>12.9937          </td>\n",
       "        </tr>\n",
       "        <tr>\n",
       "            <td>15.04     </td> <td>1.96</td> <td>Male  </td> <td>No    </td> <td>Sun </td> <td>Dinner</td> <td>2   </td> <td>13.0319</td> <td>7          </td> <td>2.426            </td> <td>16.0423          </td>\n",
       "        </tr>\n",
       "        <tr>\n",
       "            <td>14.78     </td> <td>3.23</td> <td>Male  </td> <td>No    </td> <td>Sun </td> <td>Dinner</td> <td>2   </td> <td>21.8539</td> <td>7          </td> <td>2.43833          </td> <td>16.5375          </td>\n",
       "        </tr>\n",
       "    </tbody>\n",
       "</table>\n",
       "<p>... (234 rows omitted)</p>"
      ],
      "text/plain": [
       "total_bill | tip  | sex    | smoker | day  | time   | size | tip_pct | weekday_num | Predicted Tip ($) | Predicted Tip (%)\n",
       "16.99      | 1.01 | Female | No     | Sun  | Dinner | 2    | 5.94467 | 7           | 2.82437           | 16.66\n",
       "10.34      | 1.66 | Male   | No     | Sun  | Dinner | 3    | 16.0542 | 7           | 1.81136           | 17.6281\n",
       "21.01      | 3.5  | Male   | No     | Sun  | Dinner | 3    | 16.6587 | 7           | 3.3425            | 16.0786\n",
       "23.68      | 3.31 | Male   | No     | Sun  | Dinner | 2    | 13.978  | 7           | 3.33867           | 14.1357\n",
       "24.59      | 3.61 | Female | No     | Sun  | Dinner | 4    | 14.6808 | 7           | 3.56267           | 14.4335\n",
       "25.29      | 4.71 | Male   | No     | Sun  | Dinner | 4    | 18.624  | 7           | 4.19909           | 16.6893\n",
       "8.77       | 2    | Male   | No     | Sun  | Dinner | 2    | 22.805  | 7           | 1.865             | 20.7116\n",
       "26.88      | 3.12 | Male   | No     | Sun  | Dinner | 4    | 11.6071 | 7           | 3.48111           | 12.9937\n",
       "15.04      | 1.96 | Male   | No     | Sun  | Dinner | 2    | 13.0319 | 7           | 2.426             | 16.0423\n",
       "14.78      | 3.23 | Male   | No     | Sun  | Dinner | 2    | 21.8539 | 7           | 2.43833           | 16.5375\n",
       "... (234 rows omitted)"
      ]
     },
     "execution_count": 15,
     "metadata": {},
     "output_type": "execute_result"
    }
   ],
   "source": [
    "preds = pct.with_columns('Predicted Tip ($)',pct.apply(lambda x: est_tip(x,1), 'total_bill'),\n",
    "                        'Predicted Tip (%)', pct.apply(lambda x: est_tip(x,1,as_pct=True), 'total_bill'))\n",
    "preds"
   ]
  },
  {
   "cell_type": "code",
   "execution_count": 21,
   "metadata": {},
   "outputs": [
    {
     "data": {
      "image/png": "[encoded data removed]",
      "text/plain": [
       "<Figure size 360x360 with 1 Axes>"
      ]
     },
     "metadata": {},
     "output_type": "display_data"
    },
    {
     "data": {
      "image/png": "[encoded data removed]",
      "text/plain": [
       "<Figure size 360x360 with 1 Axes>"
      ]
     },
     "metadata": {},
     "output_type": "display_data"
    }
   ],
   "source": [
    "tip_compare = preds.select('total_bill','tip','Predicted Tip ($)')\n",
    "tip_compare.scatter('total_bill')\n",
    "\n",
    "pct_compare = preds.select('total_bill','tip_pct','Predicted Tip (%)')\n",
    "pct_compare.scatter('total_bill')"
   ]
  }
 ],
 "metadata": {
  "kernelspec": {
   "display_name": "Python 3",
   "language": "python",
   "name": "python3"
  },
  "language_info": {
   "codemirror_mode": {
    "name": "ipython",
    "version": 3
   },
   "file_extension": ".py",
   "mimetype": "text/x-python",
   "name": "python",
   "nbconvert_exporter": "python",
   "pygments_lexer": "ipython3",
   "version": "3.6.5"
  }
 },
 "nbformat": 4,
 "nbformat_minor": 2
}
